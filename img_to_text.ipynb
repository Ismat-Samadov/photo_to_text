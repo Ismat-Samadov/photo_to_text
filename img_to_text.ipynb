{
 "cells": [
  {
   "cell_type": "code",
   "execution_count": 1,
   "id": "46039168-a145-40b5-8c4e-87d37f08e1a1",
   "metadata": {},
   "outputs": [],
   "source": [
    "from PIL import Image\n",
    "from pytesseract import pytesseract"
   ]
  },
  {
   "cell_type": "code",
   "execution_count": 16,
   "id": "4ae1367f-b186-40b8-a9f4-996057777ace",
   "metadata": {},
   "outputs": [
    {
     "name": "stdout",
     "output_type": "stream",
     "text": [
      "10| 5 50/5 20/10) 5 19/20\n",
      "10|25|20|10/30 5 '10 20] 5\n",
      "40/2010) 5/5 (30/20 5 10)\n",
      "20 5 '20 10/30/20) 5 10/50\n",
      "5 10|25|50|10|20/10 25/10)\n",
      "30) ¢ 5 |10 20/25) 5 10/20/30\n",
      "10.20 5 | 10) 5 20/10/20] 5\n",
      "\n"
     ]
    }
   ],
   "source": [
    "path_to_tesseract = r\"C:\\Program Files\\Tesseract-OCR\\tesseract.exe\"\n",
    "image_path = r\"C:\\Users\\Ismat\\Рабочий стол\\photo\\photo.jpeg\"\n",
    "img = Image.open(image_path)  \n",
    "pytesseract.tesseract_cmd = path_to_tesseract\n",
    "text = pytesseract.image_to_string(img)  \n",
    "print(text)"
   ]
  },
  {
   "cell_type": "code",
   "execution_count": 21,
   "id": "56c7aa3f-4782-4f95-9bc2-b9bec064e092",
   "metadata": {},
   "outputs": [
    {
     "name": "stdout",
     "output_type": "stream",
     "text": [
      "5000 texre\n",
      "yakamoz__shop\n",
      "[aos 30 To ik\n",
      "er Fa\n",
      "~ [00 [00\n",
      "\n",
      "Taso i2s0\"\n",
      "\n",
      "\n"
     ]
    }
   ],
   "source": [
    "image_path = r\"C:\\Users\\Ismat\\Рабочий стол\\photo\\phot.jpeg\"\n",
    "img_2 = Image.open(image_path)  \n",
    "text_2 = pytesseract.image_to_string(img_2)  \n",
    "print(text_2)"
   ]
  },
  {
   "cell_type": "code",
   "execution_count": null,
   "id": "0a491312-4fc0-4256-b9d7-d52affff15bc",
   "metadata": {},
   "outputs": [],
   "source": []
  }
 ],
 "metadata": {
  "kernelspec": {
   "display_name": "Python 3 (ipykernel)",
   "language": "python",
   "name": "python3"
  },
  "language_info": {
   "codemirror_mode": {
    "name": "ipython",
    "version": 3
   },
   "file_extension": ".py",
   "mimetype": "text/x-python",
   "name": "python",
   "nbconvert_exporter": "python",
   "pygments_lexer": "ipython3",
   "version": "3.9.7"
  }
 },
 "nbformat": 4,
 "nbformat_minor": 5
}
